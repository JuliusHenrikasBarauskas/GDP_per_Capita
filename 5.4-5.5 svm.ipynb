{
 "cells": [
  {
   "cell_type": "code",
   "execution_count": 4,
   "metadata": {},
   "outputs": [],
   "source": [
    "import pandas as pd\n",
    "import numpy as np\n",
    "from sklearn.model_selection import train_test_split\n",
    "from sklearn.preprocessing import StandardScaler\n",
    "from sklearn import metrics\n",
    "from sklearn import metrics\n",
    "import matplotlib.pyplot as plt\n",
    "import seaborn as sns\n",
    "%matplotlib inline\n",
    "from sklearn.svm import SVR\n",
    "from sklearn.model_selection import GridSearchCV"
   ]
  },
  {
   "cell_type": "code",
   "execution_count": null,
   "metadata": {},
   "outputs": [],
   "source": []
  },
  {
   "cell_type": "code",
   "execution_count": 5,
   "metadata": {},
   "outputs": [],
   "source": [
    "df = pd.read_csv('wb_data.csv')"
   ]
  },
  {
   "cell_type": "code",
   "execution_count": 6,
   "metadata": {},
   "outputs": [
    {
     "data": {
      "text/html": [
       "<div>\n",
       "<style scoped>\n",
       "    .dataframe tbody tr th:only-of-type {\n",
       "        vertical-align: middle;\n",
       "    }\n",
       "\n",
       "    .dataframe tbody tr th {\n",
       "        vertical-align: top;\n",
       "    }\n",
       "\n",
       "    .dataframe thead th {\n",
       "        text-align: right;\n",
       "    }\n",
       "</style>\n",
       "<table border=\"1\" class=\"dataframe\">\n",
       "  <thead>\n",
       "    <tr style=\"text-align: right;\">\n",
       "      <th></th>\n",
       "      <th>Country</th>\n",
       "      <th>BCA</th>\n",
       "      <th>BCA_NGDPD</th>\n",
       "      <th>GGR_NGDP</th>\n",
       "      <th>GGXCNL_NGDP</th>\n",
       "      <th>GGXONLB_NGDP</th>\n",
       "      <th>GGXWDG_NGDP</th>\n",
       "      <th>GGX_NGDP</th>\n",
       "      <th>LE</th>\n",
       "      <th>LP</th>\n",
       "      <th>...</th>\n",
       "      <th>NGDPRPC</th>\n",
       "      <th>NGDPRPPPPC</th>\n",
       "      <th>NGDP_D</th>\n",
       "      <th>NGDP_FY</th>\n",
       "      <th>NGDP_RPCH</th>\n",
       "      <th>PCPI</th>\n",
       "      <th>PCPIPCH</th>\n",
       "      <th>PPPGDP</th>\n",
       "      <th>PPPPC</th>\n",
       "      <th>PPPSH</th>\n",
       "    </tr>\n",
       "  </thead>\n",
       "  <tbody>\n",
       "    <tr>\n",
       "      <th>0</th>\n",
       "      <td>Afghanistan</td>\n",
       "      <td>2.247</td>\n",
       "      <td>11.157</td>\n",
       "      <td>25.694</td>\n",
       "      <td>-2.243</td>\n",
       "      <td>-2.206</td>\n",
       "      <td>7.397</td>\n",
       "      <td>27.937</td>\n",
       "      <td>0.000</td>\n",
       "      <td>32.941</td>\n",
       "      <td>...</td>\n",
       "      <td>39127.08</td>\n",
       "      <td>2328.76</td>\n",
       "      <td>120.050</td>\n",
       "      <td>1547.290</td>\n",
       "      <td>-2.351</td>\n",
       "      <td>120.671</td>\n",
       "      <td>5.607</td>\n",
       "      <td>80.912</td>\n",
       "      <td>2456.29</td>\n",
       "      <td>0.061</td>\n",
       "    </tr>\n",
       "    <tr>\n",
       "      <th>1</th>\n",
       "      <td>Albania</td>\n",
       "      <td>-1.315</td>\n",
       "      <td>-8.677</td>\n",
       "      <td>25.905</td>\n",
       "      <td>-6.713</td>\n",
       "      <td>-4.621</td>\n",
       "      <td>75.927</td>\n",
       "      <td>32.619</td>\n",
       "      <td>0.000</td>\n",
       "      <td>2.878</td>\n",
       "      <td>...</td>\n",
       "      <td>280984.50</td>\n",
       "      <td>13394.46</td>\n",
       "      <td>203.320</td>\n",
       "      <td>1644.080</td>\n",
       "      <td>-3.482</td>\n",
       "      <td>108.613</td>\n",
       "      <td>1.621</td>\n",
       "      <td>40.658</td>\n",
       "      <td>14128.00</td>\n",
       "      <td>0.031</td>\n",
       "    </tr>\n",
       "    <tr>\n",
       "      <th>2</th>\n",
       "      <td>Algeria</td>\n",
       "      <td>-18.711</td>\n",
       "      <td>-12.911</td>\n",
       "      <td>30.684</td>\n",
       "      <td>-11.959</td>\n",
       "      <td>-11.655</td>\n",
       "      <td>52.273</td>\n",
       "      <td>42.643</td>\n",
       "      <td>0.000</td>\n",
       "      <td>43.851</td>\n",
       "      <td>...</td>\n",
       "      <td>163208.89</td>\n",
       "      <td>10746.03</td>\n",
       "      <td>256.869</td>\n",
       "      <td>18383.800</td>\n",
       "      <td>-5.100</td>\n",
       "      <td>211.180</td>\n",
       "      <td>2.415</td>\n",
       "      <td>497.030</td>\n",
       "      <td>11334.53</td>\n",
       "      <td>0.374</td>\n",
       "    </tr>\n",
       "    <tr>\n",
       "      <th>3</th>\n",
       "      <td>Andorra</td>\n",
       "      <td>0.422</td>\n",
       "      <td>14.634</td>\n",
       "      <td>40.485</td>\n",
       "      <td>-2.960</td>\n",
       "      <td>0.000</td>\n",
       "      <td>46.329</td>\n",
       "      <td>43.445</td>\n",
       "      <td>0.045</td>\n",
       "      <td>0.078</td>\n",
       "      <td>...</td>\n",
       "      <td>30447.35</td>\n",
       "      <td>49728.24</td>\n",
       "      <td>106.557</td>\n",
       "      <td>2.531</td>\n",
       "      <td>-11.184</td>\n",
       "      <td>102.298</td>\n",
       "      <td>0.257</td>\n",
       "      <td>4.092</td>\n",
       "      <td>52451.57</td>\n",
       "      <td>0.003</td>\n",
       "    </tr>\n",
       "    <tr>\n",
       "      <th>4</th>\n",
       "      <td>Angola</td>\n",
       "      <td>0.872</td>\n",
       "      <td>1.500</td>\n",
       "      <td>20.983</td>\n",
       "      <td>-1.898</td>\n",
       "      <td>4.944</td>\n",
       "      <td>136.540</td>\n",
       "      <td>22.882</td>\n",
       "      <td>0.000</td>\n",
       "      <td>31.031</td>\n",
       "      <td>...</td>\n",
       "      <td>47219.95</td>\n",
       "      <td>6482.35</td>\n",
       "      <td>2293.820</td>\n",
       "      <td>33611.360</td>\n",
       "      <td>-5.750</td>\n",
       "      <td>431.227</td>\n",
       "      <td>22.277</td>\n",
       "      <td>212.172</td>\n",
       "      <td>6837.35</td>\n",
       "      <td>0.160</td>\n",
       "    </tr>\n",
       "  </tbody>\n",
       "</table>\n",
       "<p>5 rows × 25 columns</p>\n",
       "</div>"
      ],
      "text/plain": [
       "       Country     BCA  BCA_NGDPD  GGR_NGDP  GGXCNL_NGDP  GGXONLB_NGDP  \\\n",
       "0  Afghanistan   2.247     11.157    25.694       -2.243        -2.206   \n",
       "1      Albania  -1.315     -8.677    25.905       -6.713        -4.621   \n",
       "2      Algeria -18.711    -12.911    30.684      -11.959       -11.655   \n",
       "3      Andorra   0.422     14.634    40.485       -2.960         0.000   \n",
       "4       Angola   0.872      1.500    20.983       -1.898         4.944   \n",
       "\n",
       "   GGXWDG_NGDP  GGX_NGDP     LE      LP  ...    NGDPRPC  NGDPRPPPPC    NGDP_D  \\\n",
       "0        7.397    27.937  0.000  32.941  ...   39127.08     2328.76   120.050   \n",
       "1       75.927    32.619  0.000   2.878  ...  280984.50    13394.46   203.320   \n",
       "2       52.273    42.643  0.000  43.851  ...  163208.89    10746.03   256.869   \n",
       "3       46.329    43.445  0.045   0.078  ...   30447.35    49728.24   106.557   \n",
       "4      136.540    22.882  0.000  31.031  ...   47219.95     6482.35  2293.820   \n",
       "\n",
       "     NGDP_FY  NGDP_RPCH     PCPI  PCPIPCH   PPPGDP     PPPPC  PPPSH  \n",
       "0   1547.290     -2.351  120.671    5.607   80.912   2456.29  0.061  \n",
       "1   1644.080     -3.482  108.613    1.621   40.658  14128.00  0.031  \n",
       "2  18383.800     -5.100  211.180    2.415  497.030  11334.53  0.374  \n",
       "3      2.531    -11.184  102.298    0.257    4.092  52451.57  0.003  \n",
       "4  33611.360     -5.750  431.227   22.277  212.172   6837.35  0.160  \n",
       "\n",
       "[5 rows x 25 columns]"
      ]
     },
     "execution_count": 6,
     "metadata": {},
     "output_type": "execute_result"
    }
   ],
   "source": [
    "df.head()"
   ]
  },
  {
   "cell_type": "markdown",
   "metadata": {},
   "source": [
    "##### Data Split 1: all of our final dataset, no scaling"
   ]
  },
  {
   "cell_type": "code",
   "execution_count": 7,
   "metadata": {},
   "outputs": [],
   "source": [
    "# NGDPDPC - gdp_per_capita\n",
    "y = df['NGDPDPC']\n",
    "X = df.drop(['NGDPDPC','Country'], axis=1)\n",
    "\n",
    "X_train, X_test, y_train, y_test = train_test_split(X, y, test_size=0.2, random_state=101)"
   ]
  },
  {
   "cell_type": "markdown",
   "metadata": {},
   "source": [
    "##### Data Split 2: all of our final dataset, with scaling"
   ]
  },
  {
   "cell_type": "code",
   "execution_count": 8,
   "metadata": {},
   "outputs": [],
   "source": [
    "sc_X = StandardScaler()\n",
    "\n",
    "X2_train = sc_X.fit_transform(X_train)\n",
    "X2_test = sc_X.fit_transform(X_test)\n",
    "y2_train = y_train\n",
    "y2_test = y_test\n"
   ]
  },
  {
   "cell_type": "markdown",
   "metadata": {},
   "source": [
    "##### Data Split 3: feature selected dataset, no scaling"
   ]
  },
  {
   "cell_type": "code",
   "execution_count": 9,
   "metadata": {},
   "outputs": [],
   "source": [
    "y3 = y\n",
    "X3 = df.drop(['NGDPDPC',\n",
    " 'BCA',\n",
    " 'Country',\n",
    " 'GGR_NGDP',\n",
    " 'GGXCNL_NGDP',\n",
    " 'GGXONLB_NGDP',\n",
    " 'GGXWDG_NGDP',\n",
    " 'GGX_NGDP',\n",
    " 'LP',\n",
    " 'NGDP',\n",
    " 'NGDPD',\n",
    " 'NGDPPC',\n",
    " 'NGDPRPC',\n",
    " 'PPPPC'], axis=1)\n",
    "\n",
    "X3_train, X3_test, y3_train, y3_test = train_test_split(X3, y3, test_size=0.2, random_state=101)"
   ]
  },
  {
   "cell_type": "markdown",
   "metadata": {},
   "source": [
    "##### Data Split 4: feature selected dataset, with scaling"
   ]
  },
  {
   "cell_type": "code",
   "execution_count": 10,
   "metadata": {},
   "outputs": [],
   "source": [
    "sc_X4 = StandardScaler()\n",
    "\n",
    "X4_train = sc_X4.fit_transform(X3_train)\n",
    "X4_test = sc_X4.fit_transform(X3_test)\n",
    "y4_train = y3_train\n",
    "y4_test = y3_test"
   ]
  },
  {
   "cell_type": "markdown",
   "metadata": {},
   "source": [
    "## SVM"
   ]
  },
  {
   "cell_type": "markdown",
   "metadata": {},
   "source": [
    "##### Model Training\n"
   ]
  },
  {
   "cell_type": "code",
   "execution_count": 11,
   "metadata": {},
   "outputs": [
    {
     "data": {
      "text/html": [
       "<style>#sk-container-id-1 {color: black;background-color: white;}#sk-container-id-1 pre{padding: 0;}#sk-container-id-1 div.sk-toggleable {background-color: white;}#sk-container-id-1 label.sk-toggleable__label {cursor: pointer;display: block;width: 100%;margin-bottom: 0;padding: 0.3em;box-sizing: border-box;text-align: center;}#sk-container-id-1 label.sk-toggleable__label-arrow:before {content: \"▸\";float: left;margin-right: 0.25em;color: #696969;}#sk-container-id-1 label.sk-toggleable__label-arrow:hover:before {color: black;}#sk-container-id-1 div.sk-estimator:hover label.sk-toggleable__label-arrow:before {color: black;}#sk-container-id-1 div.sk-toggleable__content {max-height: 0;max-width: 0;overflow: hidden;text-align: left;background-color: #f0f8ff;}#sk-container-id-1 div.sk-toggleable__content pre {margin: 0.2em;color: black;border-radius: 0.25em;background-color: #f0f8ff;}#sk-container-id-1 input.sk-toggleable__control:checked~div.sk-toggleable__content {max-height: 200px;max-width: 100%;overflow: auto;}#sk-container-id-1 input.sk-toggleable__control:checked~label.sk-toggleable__label-arrow:before {content: \"▾\";}#sk-container-id-1 div.sk-estimator input.sk-toggleable__control:checked~label.sk-toggleable__label {background-color: #d4ebff;}#sk-container-id-1 div.sk-label input.sk-toggleable__control:checked~label.sk-toggleable__label {background-color: #d4ebff;}#sk-container-id-1 input.sk-hidden--visually {border: 0;clip: rect(1px 1px 1px 1px);clip: rect(1px, 1px, 1px, 1px);height: 1px;margin: -1px;overflow: hidden;padding: 0;position: absolute;width: 1px;}#sk-container-id-1 div.sk-estimator {font-family: monospace;background-color: #f0f8ff;border: 1px dotted black;border-radius: 0.25em;box-sizing: border-box;margin-bottom: 0.5em;}#sk-container-id-1 div.sk-estimator:hover {background-color: #d4ebff;}#sk-container-id-1 div.sk-parallel-item::after {content: \"\";width: 100%;border-bottom: 1px solid gray;flex-grow: 1;}#sk-container-id-1 div.sk-label:hover label.sk-toggleable__label {background-color: #d4ebff;}#sk-container-id-1 div.sk-serial::before {content: \"\";position: absolute;border-left: 1px solid gray;box-sizing: border-box;top: 0;bottom: 0;left: 50%;z-index: 0;}#sk-container-id-1 div.sk-serial {display: flex;flex-direction: column;align-items: center;background-color: white;padding-right: 0.2em;padding-left: 0.2em;position: relative;}#sk-container-id-1 div.sk-item {position: relative;z-index: 1;}#sk-container-id-1 div.sk-parallel {display: flex;align-items: stretch;justify-content: center;background-color: white;position: relative;}#sk-container-id-1 div.sk-item::before, #sk-container-id-1 div.sk-parallel-item::before {content: \"\";position: absolute;border-left: 1px solid gray;box-sizing: border-box;top: 0;bottom: 0;left: 50%;z-index: -1;}#sk-container-id-1 div.sk-parallel-item {display: flex;flex-direction: column;z-index: 1;position: relative;background-color: white;}#sk-container-id-1 div.sk-parallel-item:first-child::after {align-self: flex-end;width: 50%;}#sk-container-id-1 div.sk-parallel-item:last-child::after {align-self: flex-start;width: 50%;}#sk-container-id-1 div.sk-parallel-item:only-child::after {width: 0;}#sk-container-id-1 div.sk-dashed-wrapped {border: 1px dashed gray;margin: 0 0.4em 0.5em 0.4em;box-sizing: border-box;padding-bottom: 0.4em;background-color: white;}#sk-container-id-1 div.sk-label label {font-family: monospace;font-weight: bold;display: inline-block;line-height: 1.2em;}#sk-container-id-1 div.sk-label-container {text-align: center;}#sk-container-id-1 div.sk-container {/* jupyter's `normalize.less` sets `[hidden] { display: none; }` but bootstrap.min.css set `[hidden] { display: none !important; }` so we also need the `!important` here to be able to override the default hidden behavior on the sphinx rendered scikit-learn.org. See: https://github.com/scikit-learn/scikit-learn/issues/21755 */display: inline-block !important;position: relative;}#sk-container-id-1 div.sk-text-repr-fallback {display: none;}</style><div id=\"sk-container-id-1\" class=\"sk-top-container\"><div class=\"sk-text-repr-fallback\"><pre>SVR()</pre><b>In a Jupyter environment, please rerun this cell to show the HTML representation or trust the notebook. <br />On GitHub, the HTML representation is unable to render, please try loading this page with nbviewer.org.</b></div><div class=\"sk-container\" hidden><div class=\"sk-item\"><div class=\"sk-estimator sk-toggleable\"><input class=\"sk-toggleable__control sk-hidden--visually\" id=\"sk-estimator-id-1\" type=\"checkbox\" checked><label for=\"sk-estimator-id-1\" class=\"sk-toggleable__label sk-toggleable__label-arrow\">SVR</label><div class=\"sk-toggleable__content\"><pre>SVR()</pre></div></div></div></div></div>"
      ],
      "text/plain": [
       "SVR()"
      ]
     },
     "execution_count": 11,
     "metadata": {},
     "output_type": "execute_result"
    }
   ],
   "source": [
    "svm1 = SVR()\n",
    "svm1.fit(X_train,y_train)\n",
    "\n",
    "svm2 = SVR()\n",
    "svm2.fit(X2_train,y2_train)\n",
    "\n",
    "svm3 = SVR()\n",
    "svm3.fit(X3_train,y3_train)\n",
    "\n",
    "svm4 = SVR()\n",
    "svm4.fit(X4_train,y4_train)"
   ]
  },
  {
   "cell_type": "code",
   "execution_count": 12,
   "metadata": {},
   "outputs": [],
   "source": [
    "svm1_pred = svm1.predict(X_test)\n",
    "svm2_pred = svm2.predict(X2_test)\n",
    "svm3_pred = svm3.predict(X3_test)\n",
    "svm4_pred = svm4.predict(X4_test)"
   ]
  },
  {
   "cell_type": "code",
   "execution_count": 13,
   "metadata": {},
   "outputs": [
    {
     "name": "stdout",
     "output_type": "stream",
     "text": [
      "SVM Performance:\n",
      "\n",
      "all features, No scaling:\n",
      "MAE: 9027.631205128335\n",
      "RMSE: 14591.579765997723\n",
      "R2_Score:  -0.14949262540213004\n",
      "\n",
      "all features, with scaling:\n",
      "MAE: 9020.534860148047\n",
      "RMSE: 14583.955904357928\n",
      "R2_Score:  -0.148291757029978\n",
      "\n",
      "selected features, No scaling:\n",
      "MAE: 9027.631205128228\n",
      "RMSE: 14591.57976599785\n",
      "R2_Score:  -0.14949262540215047\n",
      "\n",
      "selected features, with scaling:\n",
      "MAE: 9019.726370562204\n",
      "RMSE: 14583.275082145705\n",
      "R2_Score:  -0.14818454821894433\n"
     ]
    }
   ],
   "source": [
    "print('SVM Performance:')\n",
    "\n",
    "print('\\nall features, No scaling:')\n",
    "print('MAE:', metrics.mean_absolute_error(y_test, svm1_pred))\n",
    "print('RMSE:', np.sqrt(metrics.mean_squared_error(y_test, svm1_pred)))\n",
    "print('R2_Score: ', metrics.r2_score(y_test, svm1_pred))\n",
    "\n",
    "print('\\nall features, with scaling:')\n",
    "print('MAE:', metrics.mean_absolute_error(y2_test, svm2_pred))\n",
    "print('RMSE:', np.sqrt(metrics.mean_squared_error(y2_test, svm2_pred)))\n",
    "print('R2_Score: ', metrics.r2_score(y2_test, svm2_pred))\n",
    "\n",
    "print('\\nselected features, No scaling:')\n",
    "print('MAE:', metrics.mean_absolute_error(y3_test, svm3_pred))\n",
    "print('RMSE:', np.sqrt(metrics.mean_squared_error(y3_test, svm3_pred)))\n",
    "print('R2_Score: ', metrics.r2_score(y3_test, svm3_pred))\n",
    "\n",
    "print('\\nselected features, with scaling:')\n",
    "print('MAE:', metrics.mean_absolute_error(y4_test, svm4_pred))\n",
    "print('RMSE:', np.sqrt(metrics.mean_squared_error(y4_test, svm4_pred)))\n",
    "print('R2_Score: ', metrics.r2_score(y4_test, svm4_pred))"
   ]
  },
  {
   "cell_type": "code",
   "execution_count": 14,
   "metadata": {},
   "outputs": [
    {
     "data": {
      "image/png": "[encoded data removed]",
      "text/plain": [
       "<Figure size 864x432 with 1 Axes>"
      ]
     },
     "metadata": {
      "needs_background": "light"
     },
     "output_type": "display_data"
    }
   ],
   "source": [
    "fig = plt.figure(figsize=(12, 6))\n",
    "plt.scatter(y3_test,svm3_pred, linewidths=2, edgecolors='b', color='coral')\n",
    "plt.xlabel('True GDP per Capita') \n",
    "plt.ylabel('Predictions') \n",
    "plt.title('Unoptimized SVM prediction Performance (with feature selection, and scaling)') \n",
    "plt.grid()\n",
    "plt.show()"
   ]
  },
  {
   "cell_type": "markdown",
   "metadata": {},
   "source": [
    "Feature scaling, and feature selection, made almost no difference in the prediction performance of the SVM algorithm. \n",
    "\n",
    "The results of SVM is worse than that of Linear Regression, so we will try to improve SVM's performance by optimizing its parameters using grid search."
   ]
  },
  {
   "cell_type": "markdown",
   "metadata": {},
   "source": [
    "##### Optimizing SVM"
   ]
  },
  {
   "cell_type": "code",
   "execution_count": 15,
   "metadata": {},
   "outputs": [],
   "source": [
    "param_grid = {'C': [1, 10, 100], 'gamma': [0.01,0.001,0.0001], 'kernel': ['rbf']} \n",
    "grid = GridSearchCV(SVR(),param_grid,refit=True,verbose=3)"
   ]
  },
  {
   "cell_type": "code",
   "execution_count": 16,
   "metadata": {},
   "outputs": [
    {
     "name": "stdout",
     "output_type": "stream",
     "text": [
      "Fitting 5 folds for each of 9 candidates, totalling 45 fits\n",
      "[CV 1/5] END ......C=1, gamma=0.01, kernel=rbf;, score=-0.250 total time=   0.0s\n",
      "[CV 2/5] END ......C=1, gamma=0.01, kernel=rbf;, score=-0.254 total time=   0.0s\n",
      "[CV 3/5] END ......C=1, gamma=0.01, kernel=rbf;, score=-0.107 total time=   0.0s\n",
      "[CV 4/5] END ......C=1, gamma=0.01, kernel=rbf;, score=-0.331 total time=   0.0s\n",
      "[CV 5/5] END ......C=1, gamma=0.01, kernel=rbf;, score=-0.263 total time=   0.0s\n",
      "[CV 1/5] END .....C=1, gamma=0.001, kernel=rbf;, score=-0.250 total time=   0.0s\n",
      "[CV 2/5] END .....C=1, gamma=0.001, kernel=rbf;, score=-0.254 total time=   0.0s\n",
      "[CV 3/5] END .....C=1, gamma=0.001, kernel=rbf;, score=-0.107 total time=   0.0s\n",
      "[CV 4/5] END .....C=1, gamma=0.001, kernel=rbf;, score=-0.331 total time=   0.0s\n",
      "[CV 5/5] END .....C=1, gamma=0.001, kernel=rbf;, score=-0.263 total time=   0.0s\n",
      "[CV 1/5] END ....C=1, gamma=0.0001, kernel=rbf;, score=-0.250 total time=   0.0s\n",
      "[CV 2/5] END ....C=1, gamma=0.0001, kernel=rbf;, score=-0.254 total time=   0.0s\n",
      "[CV 3/5] END ....C=1, gamma=0.0001, kernel=rbf;, score=-0.107 total time=   0.0s\n",
      "[CV 4/5] END ....C=1, gamma=0.0001, kernel=rbf;, score=-0.331 total time=   0.0s\n",
      "[CV 5/5] END ....C=1, gamma=0.0001, kernel=rbf;, score=-0.263 total time=   0.0s\n",
      "[CV 1/5] END .....C=10, gamma=0.01, kernel=rbf;, score=-0.247 total time=   0.0s\n",
      "[CV 2/5] END .....C=10, gamma=0.01, kernel=rbf;, score=-0.252 total time=   0.0s\n",
      "[CV 3/5] END .....C=10, gamma=0.01, kernel=rbf;, score=-0.105 total time=   0.0s\n",
      "[CV 4/5] END .....C=10, gamma=0.01, kernel=rbf;, score=-0.330 total time=   0.0s\n",
      "[CV 5/5] END .....C=10, gamma=0.01, kernel=rbf;, score=-0.262 total time=   0.0s\n",
      "[CV 1/5] END ....C=10, gamma=0.001, kernel=rbf;, score=-0.250 total time=   0.0s\n",
      "[CV 2/5] END ....C=10, gamma=0.001, kernel=rbf;, score=-0.254 total time=   0.0s\n",
      "[CV 3/5] END ....C=10, gamma=0.001, kernel=rbf;, score=-0.107 total time=   0.0s\n",
      "[CV 4/5] END ....C=10, gamma=0.001, kernel=rbf;, score=-0.331 total time=   0.0s\n",
      "[CV 5/5] END ....C=10, gamma=0.001, kernel=rbf;, score=-0.263 total time=   0.0s\n",
      "[CV 1/5] END ...C=10, gamma=0.0001, kernel=rbf;, score=-0.250 total time=   0.0s\n",
      "[CV 2/5] END ...C=10, gamma=0.0001, kernel=rbf;, score=-0.254 total time=   0.0s\n",
      "[CV 3/5] END ...C=10, gamma=0.0001, kernel=rbf;, score=-0.107 total time=   0.0s\n",
      "[CV 4/5] END ...C=10, gamma=0.0001, kernel=rbf;, score=-0.331 total time=   0.0s\n",
      "[CV 5/5] END ...C=10, gamma=0.0001, kernel=rbf;, score=-0.263 total time=   0.0s\n",
      "[CV 1/5] END ....C=100, gamma=0.01, kernel=rbf;, score=-0.222 total time=   0.0s\n",
      "[CV 2/5] END ....C=100, gamma=0.01, kernel=rbf;, score=-0.236 total time=   0.0s\n",
      "[CV 3/5] END ....C=100, gamma=0.01, kernel=rbf;, score=-0.086 total time=   0.0s\n",
      "[CV 4/5] END ....C=100, gamma=0.01, kernel=rbf;, score=-0.317 total time=   0.0s\n",
      "[CV 5/5] END ....C=100, gamma=0.01, kernel=rbf;, score=-0.254 total time=   0.0s\n",
      "[CV 1/5] END ...C=100, gamma=0.001, kernel=rbf;, score=-0.247 total time=   0.0s\n",
      "[CV 2/5] END ...C=100, gamma=0.001, kernel=rbf;, score=-0.252 total time=   0.0s\n",
      "[CV 3/5] END ...C=100, gamma=0.001, kernel=rbf;, score=-0.105 total time=   0.0s\n",
      "[CV 4/5] END ...C=100, gamma=0.001, kernel=rbf;, score=-0.330 total time=   0.0s\n",
      "[CV 5/5] END ...C=100, gamma=0.001, kernel=rbf;, score=-0.262 total time=   0.0s\n",
      "[CV 1/5] END ..C=100, gamma=0.0001, kernel=rbf;, score=-0.249 total time=   0.0s\n",
      "[CV 2/5] END ..C=100, gamma=0.0001, kernel=rbf;, score=-0.254 total time=   0.0s\n",
      "[CV 3/5] END ..C=100, gamma=0.0001, kernel=rbf;, score=-0.107 total time=   0.0s\n",
      "[CV 4/5] END ..C=100, gamma=0.0001, kernel=rbf;, score=-0.331 total time=   0.0s\n",
      "[CV 5/5] END ..C=100, gamma=0.0001, kernel=rbf;, score=-0.263 total time=   0.0s\n"
     ]
    },
    {
     "data": {
      "text/html": [
       "<style>#sk-container-id-2 {color: black;background-color: white;}#sk-container-id-2 pre{padding: 0;}#sk-container-id-2 div.sk-toggleable {background-color: white;}#sk-container-id-2 label.sk-toggleable__label {cursor: pointer;display: block;width: 100%;margin-bottom: 0;padding: 0.3em;box-sizing: border-box;text-align: center;}#sk-container-id-2 label.sk-toggleable__label-arrow:before {content: \"▸\";float: left;margin-right: 0.25em;color: #696969;}#sk-container-id-2 label.sk-toggleable__label-arrow:hover:before {color: black;}#sk-container-id-2 div.sk-estimator:hover label.sk-toggleable__label-arrow:before {color: black;}#sk-container-id-2 div.sk-toggleable__content {max-height: 0;max-width: 0;overflow: hidden;text-align: left;background-color: #f0f8ff;}#sk-container-id-2 div.sk-toggleable__content pre {margin: 0.2em;color: black;border-radius: 0.25em;background-color: #f0f8ff;}#sk-container-id-2 input.sk-toggleable__control:checked~div.sk-toggleable__content {max-height: 200px;max-width: 100%;overflow: auto;}#sk-container-id-2 input.sk-toggleable__control:checked~label.sk-toggleable__label-arrow:before {content: \"▾\";}#sk-container-id-2 div.sk-estimator input.sk-toggleable__control:checked~label.sk-toggleable__label {background-color: #d4ebff;}#sk-container-id-2 div.sk-label input.sk-toggleable__control:checked~label.sk-toggleable__label {background-color: #d4ebff;}#sk-container-id-2 input.sk-hidden--visually {border: 0;clip: rect(1px 1px 1px 1px);clip: rect(1px, 1px, 1px, 1px);height: 1px;margin: -1px;overflow: hidden;padding: 0;position: absolute;width: 1px;}#sk-container-id-2 div.sk-estimator {font-family: monospace;background-color: #f0f8ff;border: 1px dotted black;border-radius: 0.25em;box-sizing: border-box;margin-bottom: 0.5em;}#sk-container-id-2 div.sk-estimator:hover {background-color: #d4ebff;}#sk-container-id-2 div.sk-parallel-item::after {content: \"\";width: 100%;border-bottom: 1px solid gray;flex-grow: 1;}#sk-container-id-2 div.sk-label:hover label.sk-toggleable__label {background-color: #d4ebff;}#sk-container-id-2 div.sk-serial::before {content: \"\";position: absolute;border-left: 1px solid gray;box-sizing: border-box;top: 0;bottom: 0;left: 50%;z-index: 0;}#sk-container-id-2 div.sk-serial {display: flex;flex-direction: column;align-items: center;background-color: white;padding-right: 0.2em;padding-left: 0.2em;position: relative;}#sk-container-id-2 div.sk-item {position: relative;z-index: 1;}#sk-container-id-2 div.sk-parallel {display: flex;align-items: stretch;justify-content: center;background-color: white;position: relative;}#sk-container-id-2 div.sk-item::before, #sk-container-id-2 div.sk-parallel-item::before {content: \"\";position: absolute;border-left: 1px solid gray;box-sizing: border-box;top: 0;bottom: 0;left: 50%;z-index: -1;}#sk-container-id-2 div.sk-parallel-item {display: flex;flex-direction: column;z-index: 1;position: relative;background-color: white;}#sk-container-id-2 div.sk-parallel-item:first-child::after {align-self: flex-end;width: 50%;}#sk-container-id-2 div.sk-parallel-item:last-child::after {align-self: flex-start;width: 50%;}#sk-container-id-2 div.sk-parallel-item:only-child::after {width: 0;}#sk-container-id-2 div.sk-dashed-wrapped {border: 1px dashed gray;margin: 0 0.4em 0.5em 0.4em;box-sizing: border-box;padding-bottom: 0.4em;background-color: white;}#sk-container-id-2 div.sk-label label {font-family: monospace;font-weight: bold;display: inline-block;line-height: 1.2em;}#sk-container-id-2 div.sk-label-container {text-align: center;}#sk-container-id-2 div.sk-container {/* jupyter's `normalize.less` sets `[hidden] { display: none; }` but bootstrap.min.css set `[hidden] { display: none !important; }` so we also need the `!important` here to be able to override the default hidden behavior on the sphinx rendered scikit-learn.org. See: https://github.com/scikit-learn/scikit-learn/issues/21755 */display: inline-block !important;position: relative;}#sk-container-id-2 div.sk-text-repr-fallback {display: none;}</style><div id=\"sk-container-id-2\" class=\"sk-top-container\"><div class=\"sk-text-repr-fallback\"><pre>GridSearchCV(estimator=SVR(),\n",
       "             param_grid={&#x27;C&#x27;: [1, 10, 100], &#x27;gamma&#x27;: [0.01, 0.001, 0.0001],\n",
       "                         &#x27;kernel&#x27;: [&#x27;rbf&#x27;]},\n",
       "             verbose=3)</pre><b>In a Jupyter environment, please rerun this cell to show the HTML representation or trust the notebook. <br />On GitHub, the HTML representation is unable to render, please try loading this page with nbviewer.org.</b></div><div class=\"sk-container\" hidden><div class=\"sk-item sk-dashed-wrapped\"><div class=\"sk-label-container\"><div class=\"sk-label sk-toggleable\"><input class=\"sk-toggleable__control sk-hidden--visually\" id=\"sk-estimator-id-2\" type=\"checkbox\" ><label for=\"sk-estimator-id-2\" class=\"sk-toggleable__label sk-toggleable__label-arrow\">GridSearchCV</label><div class=\"sk-toggleable__content\"><pre>GridSearchCV(estimator=SVR(),\n",
       "             param_grid={&#x27;C&#x27;: [1, 10, 100], &#x27;gamma&#x27;: [0.01, 0.001, 0.0001],\n",
       "                         &#x27;kernel&#x27;: [&#x27;rbf&#x27;]},\n",
       "             verbose=3)</pre></div></div></div><div class=\"sk-parallel\"><div class=\"sk-parallel-item\"><div class=\"sk-item\"><div class=\"sk-label-container\"><div class=\"sk-label sk-toggleable\"><input class=\"sk-toggleable__control sk-hidden--visually\" id=\"sk-estimator-id-3\" type=\"checkbox\" ><label for=\"sk-estimator-id-3\" class=\"sk-toggleable__label sk-toggleable__label-arrow\">estimator: SVR</label><div class=\"sk-toggleable__content\"><pre>SVR()</pre></div></div></div><div class=\"sk-serial\"><div class=\"sk-item\"><div class=\"sk-estimator sk-toggleable\"><input class=\"sk-toggleable__control sk-hidden--visually\" id=\"sk-estimator-id-4\" type=\"checkbox\" ><label for=\"sk-estimator-id-4\" class=\"sk-toggleable__label sk-toggleable__label-arrow\">SVR</label><div class=\"sk-toggleable__content\"><pre>SVR()</pre></div></div></div></div></div></div></div></div></div></div>"
      ],
      "text/plain": [
       "GridSearchCV(estimator=SVR(),\n",
       "             param_grid={'C': [1, 10, 100], 'gamma': [0.01, 0.001, 0.0001],\n",
       "                         'kernel': ['rbf']},\n",
       "             verbose=3)"
      ]
     },
     "execution_count": 16,
     "metadata": {},
     "output_type": "execute_result"
    }
   ],
   "source": [
    "grid.fit(X4_train,y4_train)"
   ]
  },
  {
   "cell_type": "code",
   "execution_count": 17,
   "metadata": {},
   "outputs": [
    {
     "data": {
      "text/plain": [
       "{'C': 100, 'gamma': 0.01, 'kernel': 'rbf'}"
      ]
     },
     "execution_count": 17,
     "metadata": {},
     "output_type": "execute_result"
    }
   ],
   "source": [
    "grid.best_params_"
   ]
  },
  {
   "cell_type": "code",
   "execution_count": 18,
   "metadata": {},
   "outputs": [
    {
     "data": {
      "text/html": [
       "<style>#sk-container-id-3 {color: black;background-color: white;}#sk-container-id-3 pre{padding: 0;}#sk-container-id-3 div.sk-toggleable {background-color: white;}#sk-container-id-3 label.sk-toggleable__label {cursor: pointer;display: block;width: 100%;margin-bottom: 0;padding: 0.3em;box-sizing: border-box;text-align: center;}#sk-container-id-3 label.sk-toggleable__label-arrow:before {content: \"▸\";float: left;margin-right: 0.25em;color: #696969;}#sk-container-id-3 label.sk-toggleable__label-arrow:hover:before {color: black;}#sk-container-id-3 div.sk-estimator:hover label.sk-toggleable__label-arrow:before {color: black;}#sk-container-id-3 div.sk-toggleable__content {max-height: 0;max-width: 0;overflow: hidden;text-align: left;background-color: #f0f8ff;}#sk-container-id-3 div.sk-toggleable__content pre {margin: 0.2em;color: black;border-radius: 0.25em;background-color: #f0f8ff;}#sk-container-id-3 input.sk-toggleable__control:checked~div.sk-toggleable__content {max-height: 200px;max-width: 100%;overflow: auto;}#sk-container-id-3 input.sk-toggleable__control:checked~label.sk-toggleable__label-arrow:before {content: \"▾\";}#sk-container-id-3 div.sk-estimator input.sk-toggleable__control:checked~label.sk-toggleable__label {background-color: #d4ebff;}#sk-container-id-3 div.sk-label input.sk-toggleable__control:checked~label.sk-toggleable__label {background-color: #d4ebff;}#sk-container-id-3 input.sk-hidden--visually {border: 0;clip: rect(1px 1px 1px 1px);clip: rect(1px, 1px, 1px, 1px);height: 1px;margin: -1px;overflow: hidden;padding: 0;position: absolute;width: 1px;}#sk-container-id-3 div.sk-estimator {font-family: monospace;background-color: #f0f8ff;border: 1px dotted black;border-radius: 0.25em;box-sizing: border-box;margin-bottom: 0.5em;}#sk-container-id-3 div.sk-estimator:hover {background-color: #d4ebff;}#sk-container-id-3 div.sk-parallel-item::after {content: \"\";width: 100%;border-bottom: 1px solid gray;flex-grow: 1;}#sk-container-id-3 div.sk-label:hover label.sk-toggleable__label {background-color: #d4ebff;}#sk-container-id-3 div.sk-serial::before {content: \"\";position: absolute;border-left: 1px solid gray;box-sizing: border-box;top: 0;bottom: 0;left: 50%;z-index: 0;}#sk-container-id-3 div.sk-serial {display: flex;flex-direction: column;align-items: center;background-color: white;padding-right: 0.2em;padding-left: 0.2em;position: relative;}#sk-container-id-3 div.sk-item {position: relative;z-index: 1;}#sk-container-id-3 div.sk-parallel {display: flex;align-items: stretch;justify-content: center;background-color: white;position: relative;}#sk-container-id-3 div.sk-item::before, #sk-container-id-3 div.sk-parallel-item::before {content: \"\";position: absolute;border-left: 1px solid gray;box-sizing: border-box;top: 0;bottom: 0;left: 50%;z-index: -1;}#sk-container-id-3 div.sk-parallel-item {display: flex;flex-direction: column;z-index: 1;position: relative;background-color: white;}#sk-container-id-3 div.sk-parallel-item:first-child::after {align-self: flex-end;width: 50%;}#sk-container-id-3 div.sk-parallel-item:last-child::after {align-self: flex-start;width: 50%;}#sk-container-id-3 div.sk-parallel-item:only-child::after {width: 0;}#sk-container-id-3 div.sk-dashed-wrapped {border: 1px dashed gray;margin: 0 0.4em 0.5em 0.4em;box-sizing: border-box;padding-bottom: 0.4em;background-color: white;}#sk-container-id-3 div.sk-label label {font-family: monospace;font-weight: bold;display: inline-block;line-height: 1.2em;}#sk-container-id-3 div.sk-label-container {text-align: center;}#sk-container-id-3 div.sk-container {/* jupyter's `normalize.less` sets `[hidden] { display: none; }` but bootstrap.min.css set `[hidden] { display: none !important; }` so we also need the `!important` here to be able to override the default hidden behavior on the sphinx rendered scikit-learn.org. See: https://github.com/scikit-learn/scikit-learn/issues/21755 */display: inline-block !important;position: relative;}#sk-container-id-3 div.sk-text-repr-fallback {display: none;}</style><div id=\"sk-container-id-3\" class=\"sk-top-container\"><div class=\"sk-text-repr-fallback\"><pre>SVR(C=100, gamma=0.01)</pre><b>In a Jupyter environment, please rerun this cell to show the HTML representation or trust the notebook. <br />On GitHub, the HTML representation is unable to render, please try loading this page with nbviewer.org.</b></div><div class=\"sk-container\" hidden><div class=\"sk-item\"><div class=\"sk-estimator sk-toggleable\"><input class=\"sk-toggleable__control sk-hidden--visually\" id=\"sk-estimator-id-5\" type=\"checkbox\" checked><label for=\"sk-estimator-id-5\" class=\"sk-toggleable__label sk-toggleable__label-arrow\">SVR</label><div class=\"sk-toggleable__content\"><pre>SVR(C=100, gamma=0.01)</pre></div></div></div></div></div>"
      ],
      "text/plain": [
       "SVR(C=100, gamma=0.01)"
      ]
     },
     "execution_count": 18,
     "metadata": {},
     "output_type": "execute_result"
    }
   ],
   "source": [
    "grid.best_estimator_"
   ]
  },
  {
   "cell_type": "code",
   "execution_count": 19,
   "metadata": {},
   "outputs": [],
   "source": [
    "grid_predictions = grid.predict(X4_test)"
   ]
  },
  {
   "cell_type": "code",
   "execution_count": 20,
   "metadata": {},
   "outputs": [
    {
     "name": "stdout",
     "output_type": "stream",
     "text": [
      "MAE: 8843.882365635618\n",
      "RMSE: 14352.632054422887\n",
      "R2_Score:  -0.1121533259493741\n"
     ]
    }
   ],
   "source": [
    "print('MAE:', metrics.mean_absolute_error(y4_test, grid_predictions))\n",
    "print('RMSE:', np.sqrt(metrics.mean_squared_error(y4_test, grid_predictions)))\n",
    "print('R2_Score: ', metrics.r2_score(y4_test, grid_predictions))"
   ]
  },
  {
   "cell_type": "code",
   "execution_count": 21,
   "metadata": {},
   "outputs": [
    {
     "data": {
      "image/png": "[encoded data removed]",
      "text/plain": [
       "<Figure size 864x432 with 1 Axes>"
      ]
     },
     "metadata": {
      "needs_background": "light"
     },
     "output_type": "display_data"
    }
   ],
   "source": [
    "fig = plt.figure(figsize=(12, 6))\n",
    "plt.scatter(y4_test,grid_predictions,color='coral', linewidths=2, edgecolors='k')\n",
    "plt.xlabel('True GDP per Capita') \n",
    "plt.ylabel('Predictions') \n",
    "plt.title('Optimized SVM prediction Performance (with feature selection, and scaling)') \n",
    "plt.grid()\n",
    "plt.show()"
   ]
  },
  {
   "cell_type": "markdown",
   "metadata": {},
   "source": [
    "SVM has improved a little with grid search, but it still performs below linear regression."
   ]
  },
  {
   "cell_type": "code",
   "execution_count": null,
   "metadata": {},
   "outputs": [],
   "source": []
  }
 ],
 "metadata": {
  "kernelspec": {
   "display_name": "Python 3 (ipykernel)",
   "language": "python",
   "name": "python3"
  },
  "language_info": {
   "codemirror_mode": {
    "name": "ipython",
    "version": 3
   },
   "file_extension": ".py",
   "mimetype": "text/x-python",
   "name": "python",
   "nbconvert_exporter": "python",
   "pygments_lexer": "ipython3",
   "version": "3.9.12"
  }
 },
 "nbformat": 4,
 "nbformat_minor": 4
}
