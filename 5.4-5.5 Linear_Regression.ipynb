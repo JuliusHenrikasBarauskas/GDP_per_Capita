{
 "cells": [
  {
   "cell_type": "code",
   "execution_count": 34,
   "metadata": {},
   "outputs": [],
   "source": [
    "import pandas as pd\n",
    "import numpy as np\n",
    "from sklearn.model_selection import train_test_split\n",
    "from sklearn.preprocessing import StandardScaler\n",
    "from sklearn import metrics\n",
    "from sklearn.linear_model import LinearRegression\n",
    "from sklearn import metrics\n",
    "import matplotlib.pyplot as plt\n",
    "import seaborn as sns\n",
    "%matplotlib inline"
   ]
  },
  {
   "cell_type": "code",
   "execution_count": 35,
   "metadata": {},
   "outputs": [],
   "source": [
    "df = pd.read_csv('wb_data.csv')"
   ]
  },
  {
   "cell_type": "code",
   "execution_count": 36,
   "metadata": {},
   "outputs": [
    {
     "data": {
      "text/html": [
       "<div>\n",
       "<style scoped>\n",
       "    .dataframe tbody tr th:only-of-type {\n",
       "        vertical-align: middle;\n",
       "    }\n",
       "\n",
       "    .dataframe tbody tr th {\n",
       "        vertical-align: top;\n",
       "    }\n",
       "\n",
       "    .dataframe thead th {\n",
       "        text-align: right;\n",
       "    }\n",
       "</style>\n",
       "<table border=\"1\" class=\"dataframe\">\n",
       "  <thead>\n",
       "    <tr style=\"text-align: right;\">\n",
       "      <th></th>\n",
       "      <th>Country</th>\n",
       "      <th>BCA</th>\n",
       "      <th>BCA_NGDPD</th>\n",
       "      <th>GGR_NGDP</th>\n",
       "      <th>GGXCNL_NGDP</th>\n",
       "      <th>GGXONLB_NGDP</th>\n",
       "      <th>GGXWDG_NGDP</th>\n",
       "      <th>GGX_NGDP</th>\n",
       "      <th>LE</th>\n",
       "      <th>LP</th>\n",
       "      <th>...</th>\n",
       "      <th>NGDPRPC</th>\n",
       "      <th>NGDPRPPPPC</th>\n",
       "      <th>NGDP_D</th>\n",
       "      <th>NGDP_FY</th>\n",
       "      <th>NGDP_RPCH</th>\n",
       "      <th>PCPI</th>\n",
       "      <th>PCPIPCH</th>\n",
       "      <th>PPPGDP</th>\n",
       "      <th>PPPPC</th>\n",
       "      <th>PPPSH</th>\n",
       "    </tr>\n",
       "  </thead>\n",
       "  <tbody>\n",
       "    <tr>\n",
       "      <th>0</th>\n",
       "      <td>Afghanistan</td>\n",
       "      <td>2.247</td>\n",
       "      <td>11.157</td>\n",
       "      <td>25.694</td>\n",
       "      <td>-2.243</td>\n",
       "      <td>-2.206</td>\n",
       "      <td>7.397</td>\n",
       "      <td>27.937</td>\n",
       "      <td>0.000</td>\n",
       "      <td>32.941</td>\n",
       "      <td>...</td>\n",
       "      <td>39127.080</td>\n",
       "      <td>2328.76</td>\n",
       "      <td>120.050</td>\n",
       "      <td>1547.290</td>\n",
       "      <td>-2.351</td>\n",
       "      <td>120.671</td>\n",
       "      <td>5.607</td>\n",
       "      <td>80.912</td>\n",
       "      <td>2456.29</td>\n",
       "      <td>0.061</td>\n",
       "    </tr>\n",
       "    <tr>\n",
       "      <th>1</th>\n",
       "      <td>Albania</td>\n",
       "      <td>-1.315</td>\n",
       "      <td>-8.677</td>\n",
       "      <td>25.905</td>\n",
       "      <td>-6.713</td>\n",
       "      <td>-4.621</td>\n",
       "      <td>75.927</td>\n",
       "      <td>32.619</td>\n",
       "      <td>0.000</td>\n",
       "      <td>2.878</td>\n",
       "      <td>...</td>\n",
       "      <td>280984.500</td>\n",
       "      <td>13394.46</td>\n",
       "      <td>203.320</td>\n",
       "      <td>1644.080</td>\n",
       "      <td>-3.482</td>\n",
       "      <td>108.613</td>\n",
       "      <td>1.621</td>\n",
       "      <td>40.658</td>\n",
       "      <td>14128.00</td>\n",
       "      <td>0.031</td>\n",
       "    </tr>\n",
       "    <tr>\n",
       "      <th>2</th>\n",
       "      <td>Algeria</td>\n",
       "      <td>-18.711</td>\n",
       "      <td>-12.911</td>\n",
       "      <td>30.684</td>\n",
       "      <td>-11.959</td>\n",
       "      <td>-11.655</td>\n",
       "      <td>52.273</td>\n",
       "      <td>42.643</td>\n",
       "      <td>0.000</td>\n",
       "      <td>43.851</td>\n",
       "      <td>...</td>\n",
       "      <td>163208.890</td>\n",
       "      <td>10746.03</td>\n",
       "      <td>256.869</td>\n",
       "      <td>18383.800</td>\n",
       "      <td>-5.100</td>\n",
       "      <td>211.180</td>\n",
       "      <td>2.415</td>\n",
       "      <td>497.030</td>\n",
       "      <td>11334.53</td>\n",
       "      <td>0.374</td>\n",
       "    </tr>\n",
       "    <tr>\n",
       "      <th>3</th>\n",
       "      <td>Andorra</td>\n",
       "      <td>0.422</td>\n",
       "      <td>14.634</td>\n",
       "      <td>40.485</td>\n",
       "      <td>-2.960</td>\n",
       "      <td>0.000</td>\n",
       "      <td>46.329</td>\n",
       "      <td>43.445</td>\n",
       "      <td>0.045</td>\n",
       "      <td>0.078</td>\n",
       "      <td>...</td>\n",
       "      <td>30447.350</td>\n",
       "      <td>49728.24</td>\n",
       "      <td>106.557</td>\n",
       "      <td>2.531</td>\n",
       "      <td>-11.184</td>\n",
       "      <td>102.298</td>\n",
       "      <td>0.257</td>\n",
       "      <td>4.092</td>\n",
       "      <td>52451.57</td>\n",
       "      <td>0.003</td>\n",
       "    </tr>\n",
       "    <tr>\n",
       "      <th>4</th>\n",
       "      <td>Angola</td>\n",
       "      <td>0.872</td>\n",
       "      <td>1.500</td>\n",
       "      <td>20.983</td>\n",
       "      <td>-1.898</td>\n",
       "      <td>4.944</td>\n",
       "      <td>136.540</td>\n",
       "      <td>22.882</td>\n",
       "      <td>0.000</td>\n",
       "      <td>31.031</td>\n",
       "      <td>...</td>\n",
       "      <td>47219.950</td>\n",
       "      <td>6482.35</td>\n",
       "      <td>2293.820</td>\n",
       "      <td>33611.360</td>\n",
       "      <td>-5.750</td>\n",
       "      <td>431.227</td>\n",
       "      <td>22.277</td>\n",
       "      <td>212.172</td>\n",
       "      <td>6837.35</td>\n",
       "      <td>0.160</td>\n",
       "    </tr>\n",
       "    <tr>\n",
       "      <th>...</th>\n",
       "      <td>...</td>\n",
       "      <td>...</td>\n",
       "      <td>...</td>\n",
       "      <td>...</td>\n",
       "      <td>...</td>\n",
       "      <td>...</td>\n",
       "      <td>...</td>\n",
       "      <td>...</td>\n",
       "      <td>...</td>\n",
       "      <td>...</td>\n",
       "      <td>...</td>\n",
       "      <td>...</td>\n",
       "      <td>...</td>\n",
       "      <td>...</td>\n",
       "      <td>...</td>\n",
       "      <td>...</td>\n",
       "      <td>...</td>\n",
       "      <td>...</td>\n",
       "      <td>...</td>\n",
       "      <td>...</td>\n",
       "      <td>...</td>\n",
       "    </tr>\n",
       "    <tr>\n",
       "      <th>95</th>\n",
       "      <td>Liberia</td>\n",
       "      <td>-0.498</td>\n",
       "      <td>-16.389</td>\n",
       "      <td>31.267</td>\n",
       "      <td>-3.841</td>\n",
       "      <td>-2.555</td>\n",
       "      <td>58.657</td>\n",
       "      <td>35.108</td>\n",
       "      <td>0.000</td>\n",
       "      <td>5.058</td>\n",
       "      <td>...</td>\n",
       "      <td>610.449</td>\n",
       "      <td>1363.90</td>\n",
       "      <td>98.364</td>\n",
       "      <td>3.037</td>\n",
       "      <td>-2.967</td>\n",
       "      <td>856.247</td>\n",
       "      <td>16.953</td>\n",
       "      <td>7.276</td>\n",
       "      <td>1438.59</td>\n",
       "      <td>0.005</td>\n",
       "    </tr>\n",
       "    <tr>\n",
       "      <th>96</th>\n",
       "      <td>Libya</td>\n",
       "      <td>-3.974</td>\n",
       "      <td>-8.477</td>\n",
       "      <td>35.079</td>\n",
       "      <td>-22.279</td>\n",
       "      <td>-22.279</td>\n",
       "      <td>0.000</td>\n",
       "      <td>57.358</td>\n",
       "      <td>0.000</td>\n",
       "      <td>6.644</td>\n",
       "      <td>...</td>\n",
       "      <td>9711.010</td>\n",
       "      <td>15714.55</td>\n",
       "      <td>100.824</td>\n",
       "      <td>65.048</td>\n",
       "      <td>-29.476</td>\n",
       "      <td>328.318</td>\n",
       "      <td>1.468</td>\n",
       "      <td>110.119</td>\n",
       "      <td>16575.15</td>\n",
       "      <td>0.083</td>\n",
       "    </tr>\n",
       "    <tr>\n",
       "      <th>97</th>\n",
       "      <td>Lithuania</td>\n",
       "      <td>4.146</td>\n",
       "      <td>7.338</td>\n",
       "      <td>34.907</td>\n",
       "      <td>-7.268</td>\n",
       "      <td>-6.677</td>\n",
       "      <td>46.580</td>\n",
       "      <td>42.175</td>\n",
       "      <td>1.358</td>\n",
       "      <td>2.795</td>\n",
       "      <td>...</td>\n",
       "      <td>15514.770</td>\n",
       "      <td>37178.19</td>\n",
       "      <td>114.172</td>\n",
       "      <td>49.507</td>\n",
       "      <td>-0.132</td>\n",
       "      <td>110.628</td>\n",
       "      <td>1.062</td>\n",
       "      <td>109.599</td>\n",
       "      <td>39214.23</td>\n",
       "      <td>0.082</td>\n",
       "    </tr>\n",
       "    <tr>\n",
       "      <th>98</th>\n",
       "      <td>Luxembourg</td>\n",
       "      <td>3.016</td>\n",
       "      <td>4.115</td>\n",
       "      <td>43.743</td>\n",
       "      <td>-3.420</td>\n",
       "      <td>-3.653</td>\n",
       "      <td>24.750</td>\n",
       "      <td>47.163</td>\n",
       "      <td>0.472</td>\n",
       "      <td>0.626</td>\n",
       "      <td>...</td>\n",
       "      <td>95177.830</td>\n",
       "      <td>113851.21</td>\n",
       "      <td>107.769</td>\n",
       "      <td>64.221</td>\n",
       "      <td>-1.777</td>\n",
       "      <td>105.938</td>\n",
       "      <td>0.005</td>\n",
       "      <td>75.187</td>\n",
       "      <td>120086.20</td>\n",
       "      <td>0.057</td>\n",
       "    </tr>\n",
       "    <tr>\n",
       "      <th>99</th>\n",
       "      <td>Macao SAR</td>\n",
       "      <td>3.879</td>\n",
       "      <td>15.159</td>\n",
       "      <td>27.646</td>\n",
       "      <td>-21.207</td>\n",
       "      <td>-21.207</td>\n",
       "      <td>0.000</td>\n",
       "      <td>48.853</td>\n",
       "      <td>0.395</td>\n",
       "      <td>0.683</td>\n",
       "      <td>...</td>\n",
       "      <td>299238.760</td>\n",
       "      <td>54876.23</td>\n",
       "      <td>100.000</td>\n",
       "      <td>204.409</td>\n",
       "      <td>-54.011</td>\n",
       "      <td>151.039</td>\n",
       "      <td>0.811</td>\n",
       "      <td>39.539</td>\n",
       "      <td>57881.49</td>\n",
       "      <td>0.030</td>\n",
       "    </tr>\n",
       "  </tbody>\n",
       "</table>\n",
       "<p>100 rows × 25 columns</p>\n",
       "</div>"
      ],
      "text/plain": [
       "        Country     BCA  BCA_NGDPD  GGR_NGDP  GGXCNL_NGDP  GGXONLB_NGDP  \\\n",
       "0   Afghanistan   2.247     11.157    25.694       -2.243        -2.206   \n",
       "1       Albania  -1.315     -8.677    25.905       -6.713        -4.621   \n",
       "2       Algeria -18.711    -12.911    30.684      -11.959       -11.655   \n",
       "3       Andorra   0.422     14.634    40.485       -2.960         0.000   \n",
       "4        Angola   0.872      1.500    20.983       -1.898         4.944   \n",
       "..          ...     ...        ...       ...          ...           ...   \n",
       "95      Liberia  -0.498    -16.389    31.267       -3.841        -2.555   \n",
       "96        Libya  -3.974     -8.477    35.079      -22.279       -22.279   \n",
       "97    Lithuania   4.146      7.338    34.907       -7.268        -6.677   \n",
       "98   Luxembourg   3.016      4.115    43.743       -3.420        -3.653   \n",
       "99    Macao SAR   3.879     15.159    27.646      -21.207       -21.207   \n",
       "\n",
       "    GGXWDG_NGDP  GGX_NGDP     LE      LP  ...     NGDPRPC  NGDPRPPPPC  \\\n",
       "0         7.397    27.937  0.000  32.941  ...   39127.080     2328.76   \n",
       "1        75.927    32.619  0.000   2.878  ...  280984.500    13394.46   \n",
       "2        52.273    42.643  0.000  43.851  ...  163208.890    10746.03   \n",
       "3        46.329    43.445  0.045   0.078  ...   30447.350    49728.24   \n",
       "4       136.540    22.882  0.000  31.031  ...   47219.950     6482.35   \n",
       "..          ...       ...    ...     ...  ...         ...         ...   \n",
       "95       58.657    35.108  0.000   5.058  ...     610.449     1363.90   \n",
       "96        0.000    57.358  0.000   6.644  ...    9711.010    15714.55   \n",
       "97       46.580    42.175  1.358   2.795  ...   15514.770    37178.19   \n",
       "98       24.750    47.163  0.472   0.626  ...   95177.830   113851.21   \n",
       "99        0.000    48.853  0.395   0.683  ...  299238.760    54876.23   \n",
       "\n",
       "      NGDP_D    NGDP_FY  NGDP_RPCH     PCPI  PCPIPCH   PPPGDP      PPPPC  \\\n",
       "0    120.050   1547.290     -2.351  120.671    5.607   80.912    2456.29   \n",
       "1    203.320   1644.080     -3.482  108.613    1.621   40.658   14128.00   \n",
       "2    256.869  18383.800     -5.100  211.180    2.415  497.030   11334.53   \n",
       "3    106.557      2.531    -11.184  102.298    0.257    4.092   52451.57   \n",
       "4   2293.820  33611.360     -5.750  431.227   22.277  212.172    6837.35   \n",
       "..       ...        ...        ...      ...      ...      ...        ...   \n",
       "95    98.364      3.037     -2.967  856.247   16.953    7.276    1438.59   \n",
       "96   100.824     65.048    -29.476  328.318    1.468  110.119   16575.15   \n",
       "97   114.172     49.507     -0.132  110.628    1.062  109.599   39214.23   \n",
       "98   107.769     64.221     -1.777  105.938    0.005   75.187  120086.20   \n",
       "99   100.000    204.409    -54.011  151.039    0.811   39.539   57881.49   \n",
       "\n",
       "    PPPSH  \n",
       "0   0.061  \n",
       "1   0.031  \n",
       "2   0.374  \n",
       "3   0.003  \n",
       "4   0.160  \n",
       "..    ...  \n",
       "95  0.005  \n",
       "96  0.083  \n",
       "97  0.082  \n",
       "98  0.057  \n",
       "99  0.030  \n",
       "\n",
       "[100 rows x 25 columns]"
      ]
     },
     "execution_count": 36,
     "metadata": {},
     "output_type": "execute_result"
    }
   ],
   "source": [
    "df.head(100)"
   ]
  },
  {
   "cell_type": "code",
   "execution_count": 37,
   "metadata": {},
   "outputs": [
    {
     "data": {
      "text/plain": [
       "['Country',\n",
       " 'BCA',\n",
       " 'BCA_NGDPD',\n",
       " 'GGR_NGDP',\n",
       " 'GGXCNL_NGDP',\n",
       " 'GGXONLB_NGDP',\n",
       " 'GGXWDG_NGDP',\n",
       " 'GGX_NGDP',\n",
       " 'LE',\n",
       " 'LP',\n",
       " 'LUR',\n",
       " 'NGDP',\n",
       " 'NGDPD',\n",
       " 'NGDPDPC',\n",
       " 'NGDPPC',\n",
       " 'NGDPRPC',\n",
       " 'NGDPRPPPPC',\n",
       " 'NGDP_D',\n",
       " 'NGDP_FY',\n",
       " 'NGDP_RPCH',\n",
       " 'PCPI',\n",
       " 'PCPIPCH',\n",
       " 'PPPGDP',\n",
       " 'PPPPC',\n",
       " 'PPPSH']"
      ]
     },
     "execution_count": 37,
     "metadata": {},
     "output_type": "execute_result"
    }
   ],
   "source": [
    "column_names = list(df)\n",
    "column_names"
   ]
  },
  {
   "cell_type": "code",
   "execution_count": 38,
   "metadata": {},
   "outputs": [
    {
     "name": "stdout",
     "output_type": "stream",
     "text": [
      "<class 'pandas.core.frame.DataFrame'>\n",
      "RangeIndex: 195 entries, 0 to 194\n",
      "Data columns (total 25 columns):\n",
      " #   Column        Non-Null Count  Dtype  \n",
      "---  ------        --------------  -----  \n",
      " 0   Country       195 non-null    object \n",
      " 1   BCA           195 non-null    float64\n",
      " 2   BCA_NGDPD     195 non-null    float64\n",
      " 3   GGR_NGDP      195 non-null    float64\n",
      " 4   GGXCNL_NGDP   195 non-null    float64\n",
      " 5   GGXONLB_NGDP  195 non-null    float64\n",
      " 6   GGXWDG_NGDP   195 non-null    float64\n",
      " 7   GGX_NGDP      195 non-null    float64\n",
      " 8   LE            195 non-null    float64\n",
      " 9   LP            195 non-null    float64\n",
      " 10  LUR           195 non-null    float64\n",
      " 11  NGDP          195 non-null    float64\n",
      " 12  NGDPD         195 non-null    float64\n",
      " 13  NGDPDPC       195 non-null    float64\n",
      " 14  NGDPPC        195 non-null    float64\n",
      " 15  NGDPRPC       195 non-null    float64\n",
      " 16  NGDPRPPPPC    195 non-null    float64\n",
      " 17  NGDP_D        195 non-null    float64\n",
      " 18  NGDP_FY       195 non-null    float64\n",
      " 19  NGDP_RPCH     195 non-null    float64\n",
      " 20  PCPI          195 non-null    float64\n",
      " 21  PCPIPCH       195 non-null    float64\n",
      " 22  PPPGDP        195 non-null    float64\n",
      " 23  PPPPC         195 non-null    float64\n",
      " 24  PPPSH         195 non-null    float64\n",
      "dtypes: float64(24), object(1)\n",
      "memory usage: 38.2+ KB\n"
     ]
    }
   ],
   "source": [
    "df.info()"
   ]
  },
  {
   "cell_type": "code",
   "execution_count": 39,
   "metadata": {},
   "outputs": [],
   "source": [
    "#df['NGDPRPC'] = df['NGDPRPC'].astype(float)\n",
    "#df['PPPSH'] = df['PPPSH'].astype(float)\n",
    "#df.loc[:, df.columns != 'Country'].astype(float)"
   ]
  },
  {
   "cell_type": "markdown",
   "metadata": {},
   "source": [
    "##### Data Split 1: all of our final dataset, no scaling"
   ]
  },
  {
   "cell_type": "code",
   "execution_count": 40,
   "metadata": {},
   "outputs": [],
   "source": [
    "# NGDPDPC - gdp_per_capita\n",
    "y = df['NGDPDPC']\n",
    "X = df.drop(['NGDPDPC','Country'], axis=1)\n",
    "\n",
    "X_train, X_test, y_train, y_test = train_test_split(X, y, test_size=0.2, random_state=101)"
   ]
  },
  {
   "cell_type": "markdown",
   "metadata": {},
   "source": [
    "##### Data Split 2: all of our final dataset, with scaling"
   ]
  },
  {
   "cell_type": "code",
   "execution_count": 41,
   "metadata": {},
   "outputs": [],
   "source": [
    "sc_X = StandardScaler()\n",
    "\n",
    "X2_train = sc_X.fit_transform(X_train)\n",
    "X2_test = sc_X.fit_transform(X_test)\n",
    "y2_train = y_train\n",
    "y2_test = y_test"
   ]
  },
  {
   "cell_type": "markdown",
   "metadata": {},
   "source": [
    "##### Data Split 3: feature selected dataset, no scaling"
   ]
  },
  {
   "cell_type": "code",
   "execution_count": 42,
   "metadata": {},
   "outputs": [],
   "source": [
    "y3 = y\n",
    "X3 = df.drop(['NGDPDPC',\n",
    " 'BCA',\n",
    " 'Country',\n",
    " 'GGR_NGDP',\n",
    " 'GGXCNL_NGDP',\n",
    " 'GGXONLB_NGDP',\n",
    " 'GGXWDG_NGDP',\n",
    " 'GGX_NGDP',\n",
    " 'LP',\n",
    " 'NGDP',\n",
    " 'NGDPD',\n",
    " 'NGDPPC',\n",
    " 'NGDPRPC',\n",
    " 'PPPPC'], axis=1)\n",
    "\n",
    "X3_train, X3_test, y3_train, y3_test = train_test_split(X3, y3, test_size=0.2, random_state=101)"
   ]
  },
  {
   "cell_type": "markdown",
   "metadata": {},
   "source": [
    "##### Data Split 4: feature selected dataset, with scaling"
   ]
  },
  {
   "cell_type": "code",
   "execution_count": 43,
   "metadata": {},
   "outputs": [],
   "source": [
    "sc_X4 = StandardScaler()\n",
    "\n",
    "X4_train = sc_X4.fit_transform(X3_train)\n",
    "X4_test = sc_X4.fit_transform(X3_test)\n",
    "y4_train = y3_train\n",
    "y4_test = y3_test"
   ]
  },
  {
   "cell_type": "markdown",
   "metadata": {},
   "source": [
    "## Linear Regression"
   ]
  },
  {
   "cell_type": "markdown",
   "metadata": {},
   "source": [
    "From our EDA, we can see that most features do not have a linear relationship with our labels (gdp_per_capita), yet we will try linear regression, and use the result as a reference (other methods should have better results)."
   ]
  },
  {
   "cell_type": "markdown",
   "metadata": {},
   "source": [
    "##### Model Training"
   ]
  },
  {
   "cell_type": "code",
   "execution_count": 44,
   "metadata": {},
   "outputs": [
    {
     "data": {
      "text/html": [
       "<style>#sk-container-id-1 {color: black;background-color: white;}#sk-container-id-1 pre{padding: 0;}#sk-container-id-1 div.sk-toggleable {background-color: white;}#sk-container-id-1 label.sk-toggleable__label {cursor: pointer;display: block;width: 100%;margin-bottom: 0;padding: 0.3em;box-sizing: border-box;text-align: center;}#sk-container-id-1 label.sk-toggleable__label-arrow:before {content: \"▸\";float: left;margin-right: 0.25em;color: #696969;}#sk-container-id-1 label.sk-toggleable__label-arrow:hover:before {color: black;}#sk-container-id-1 div.sk-estimator:hover label.sk-toggleable__label-arrow:before {color: black;}#sk-container-id-1 div.sk-toggleable__content {max-height: 0;max-width: 0;overflow: hidden;text-align: left;background-color: #f0f8ff;}#sk-container-id-1 div.sk-toggleable__content pre {margin: 0.2em;color: black;border-radius: 0.25em;background-color: #f0f8ff;}#sk-container-id-1 input.sk-toggleable__control:checked~div.sk-toggleable__content {max-height: 200px;max-width: 100%;overflow: auto;}#sk-container-id-1 input.sk-toggleable__control:checked~label.sk-toggleable__label-arrow:before {content: \"▾\";}#sk-container-id-1 div.sk-estimator input.sk-toggleable__control:checked~label.sk-toggleable__label {background-color: #d4ebff;}#sk-container-id-1 div.sk-label input.sk-toggleable__control:checked~label.sk-toggleable__label {background-color: #d4ebff;}#sk-container-id-1 input.sk-hidden--visually {border: 0;clip: rect(1px 1px 1px 1px);clip: rect(1px, 1px, 1px, 1px);height: 1px;margin: -1px;overflow: hidden;padding: 0;position: absolute;width: 1px;}#sk-container-id-1 div.sk-estimator {font-family: monospace;background-color: #f0f8ff;border: 1px dotted black;border-radius: 0.25em;box-sizing: border-box;margin-bottom: 0.5em;}#sk-container-id-1 div.sk-estimator:hover {background-color: #d4ebff;}#sk-container-id-1 div.sk-parallel-item::after {content: \"\";width: 100%;border-bottom: 1px solid gray;flex-grow: 1;}#sk-container-id-1 div.sk-label:hover label.sk-toggleable__label {background-color: #d4ebff;}#sk-container-id-1 div.sk-serial::before {content: \"\";position: absolute;border-left: 1px solid gray;box-sizing: border-box;top: 0;bottom: 0;left: 50%;z-index: 0;}#sk-container-id-1 div.sk-serial {display: flex;flex-direction: column;align-items: center;background-color: white;padding-right: 0.2em;padding-left: 0.2em;position: relative;}#sk-container-id-1 div.sk-item {position: relative;z-index: 1;}#sk-container-id-1 div.sk-parallel {display: flex;align-items: stretch;justify-content: center;background-color: white;position: relative;}#sk-container-id-1 div.sk-item::before, #sk-container-id-1 div.sk-parallel-item::before {content: \"\";position: absolute;border-left: 1px solid gray;box-sizing: border-box;top: 0;bottom: 0;left: 50%;z-index: -1;}#sk-container-id-1 div.sk-parallel-item {display: flex;flex-direction: column;z-index: 1;position: relative;background-color: white;}#sk-container-id-1 div.sk-parallel-item:first-child::after {align-self: flex-end;width: 50%;}#sk-container-id-1 div.sk-parallel-item:last-child::after {align-self: flex-start;width: 50%;}#sk-container-id-1 div.sk-parallel-item:only-child::after {width: 0;}#sk-container-id-1 div.sk-dashed-wrapped {border: 1px dashed gray;margin: 0 0.4em 0.5em 0.4em;box-sizing: border-box;padding-bottom: 0.4em;background-color: white;}#sk-container-id-1 div.sk-label label {font-family: monospace;font-weight: bold;display: inline-block;line-height: 1.2em;}#sk-container-id-1 div.sk-label-container {text-align: center;}#sk-container-id-1 div.sk-container {/* jupyter's `normalize.less` sets `[hidden] { display: none; }` but bootstrap.min.css set `[hidden] { display: none !important; }` so we also need the `!important` here to be able to override the default hidden behavior on the sphinx rendered scikit-learn.org. See: https://github.com/scikit-learn/scikit-learn/issues/21755 */display: inline-block !important;position: relative;}#sk-container-id-1 div.sk-text-repr-fallback {display: none;}</style><div id=\"sk-container-id-1\" class=\"sk-top-container\"><div class=\"sk-text-repr-fallback\"><pre>LinearRegression()</pre><b>In a Jupyter environment, please rerun this cell to show the HTML representation or trust the notebook. <br />On GitHub, the HTML representation is unable to render, please try loading this page with nbviewer.org.</b></div><div class=\"sk-container\" hidden><div class=\"sk-item\"><div class=\"sk-estimator sk-toggleable\"><input class=\"sk-toggleable__control sk-hidden--visually\" id=\"sk-estimator-id-1\" type=\"checkbox\" checked><label for=\"sk-estimator-id-1\" class=\"sk-toggleable__label sk-toggleable__label-arrow\">LinearRegression</label><div class=\"sk-toggleable__content\"><pre>LinearRegression()</pre></div></div></div></div></div>"
      ],
      "text/plain": [
       "LinearRegression()"
      ]
     },
     "execution_count": 44,
     "metadata": {},
     "output_type": "execute_result"
    }
   ],
   "source": [
    "lm1 = LinearRegression()\n",
    "lm1.fit(X_train,y_train)\n",
    "\n",
    "lm2 = LinearRegression()\n",
    "lm2.fit(X2_train,y2_train)\n",
    "\n",
    "lm3 = LinearRegression()\n",
    "lm3.fit(X3_train,y3_train)\n",
    "\n",
    "lm4 = LinearRegression()\n",
    "lm4.fit(X4_train,y4_train)"
   ]
  },
  {
   "cell_type": "markdown",
   "metadata": {},
   "source": [
    "##### Predictions"
   ]
  },
  {
   "cell_type": "code",
   "execution_count": 45,
   "metadata": {},
   "outputs": [],
   "source": [
    "lm1_pred = lm1.predict(X_test)\n",
    "lm2_pred = lm2.predict(X2_test)\n",
    "lm3_pred = lm3.predict(X3_test)\n",
    "lm4_pred = lm4.predict(X4_test)"
   ]
  },
  {
   "cell_type": "markdown",
   "metadata": {},
   "source": [
    "##### Evaluation"
   ]
  },
  {
   "cell_type": "code",
   "execution_count": 46,
   "metadata": {},
   "outputs": [
    {
     "name": "stdout",
     "output_type": "stream",
     "text": [
      "Linear Regression Performance:\n",
      "\n",
      "all features, No scaling:\n",
      "MAE: 4397.928977909899\n",
      "RMSE: 5766.181011169655\n",
      "R2_Score:  0.8204943571592658\n",
      "\n",
      "all features, with scaling:\n",
      "MAE: 2066575.648593061\n",
      "RMSE: 2610478.695522904\n",
      "R2_Score:  -36790.02340673407\n",
      "\n",
      "selected features, No scaling:\n",
      "MAE: 3606.4904876716246\n",
      "RMSE: 5002.266209842077\n",
      "R2_Score:  0.8649062794101751\n",
      "\n",
      "selected features, with scaling:\n",
      "MAE: 5689.4835822759715\n",
      "RMSE: 8423.599855041128\n",
      "R2_Score:  0.6169133487910939\n"
     ]
    }
   ],
   "source": [
    "print('Linear Regression Performance:')\n",
    "\n",
    "print('\\nall features, No scaling:')\n",
    "print('MAE:', metrics.mean_absolute_error(y_test, lm1_pred))\n",
    "print('RMSE:', np.sqrt(metrics.mean_squared_error(y_test, lm1_pred)))\n",
    "print('R2_Score: ', metrics.r2_score(y_test, lm1_pred))\n",
    "\n",
    "print('\\nall features, with scaling:')\n",
    "print('MAE:', metrics.mean_absolute_error(y2_test, lm2_pred))\n",
    "print('RMSE:', np.sqrt(metrics.mean_squared_error(y2_test, lm2_pred)))\n",
    "print('R2_Score: ', metrics.r2_score(y2_test, lm2_pred))\n",
    "\n",
    "print('\\nselected features, No scaling:')\n",
    "print('MAE:', metrics.mean_absolute_error(y3_test, lm3_pred))\n",
    "print('RMSE:', np.sqrt(metrics.mean_squared_error(y3_test, lm3_pred)))\n",
    "print('R2_Score: ', metrics.r2_score(y3_test, lm3_pred))\n",
    "\n",
    "print('\\nselected features, with scaling:')\n",
    "print('MAE:', metrics.mean_absolute_error(y4_test, lm4_pred))\n",
    "print('RMSE:', np.sqrt(metrics.mean_squared_error(y4_test, lm4_pred)))\n",
    "print('R2_Score: ', metrics.r2_score(y4_test, lm4_pred))"
   ]
  },
  {
   "cell_type": "markdown",
   "metadata": {},
   "source": [
    "From the metrics above, it is clear that feature selection is essential for linear regression model training, in order to get acceptable results on this dataset. On the other hand, feature scaling has a small positive effect on LR's prediction performance. we got decent prediction performance from LR with feature selection and scaling."
   ]
  },
  {
   "cell_type": "code",
   "execution_count": 47,
   "metadata": {},
   "outputs": [
    {
     "data": {
      "image/png": "[encoded data removed]",
      "text/plain": [
       "<Figure size 864x432 with 1 Axes>"
      ]
     },
     "metadata": {
      "needs_background": "light"
     },
     "output_type": "display_data"
    }
   ],
   "source": [
    "fig = plt.figure(figsize=(12, 6))\n",
    "plt.scatter(y4_test,lm4_pred, linewidths=2, edgecolors='b', color='coral')\n",
    "plt.xlabel('True GDP per Capita') \n",
    "plt.ylabel('Predictions') \n",
    "plt.title('Linear Regression Prediction Performance (features selected and scaled)') \n",
    "plt.grid()\n",
    "plt.show()"
   ]
  },
  {
   "cell_type": "markdown",
   "metadata": {},
   "source": [
    "From the metrics above, it is clear that feature selection is essential for linear regression model training, in order to get acceptable results on this dataset. On the other hand, feature scaling has a small positive effect on LR's prediction performance.\n",
    "we got decent prediction performance from LR with feature selection and scaling."
   ]
  },
  {
   "cell_type": "code",
   "execution_count": null,
   "metadata": {},
   "outputs": [],
   "source": [
    "#Results of sklearn.metrics:\n",
    "#MAE: 0.5833333333333334\n",
    "#RMSE: 0.8660254037844386\n",
    "#R-Squared: 0.8655043586550436 "
   ]
  }
 ],
 "metadata": {
  "kernelspec": {
   "display_name": "Python 3 (ipykernel)",
   "language": "python",
   "name": "python3"
  },
  "language_info": {
   "codemirror_mode": {
    "name": "ipython",
    "version": 3
   },
   "file_extension": ".py",
   "mimetype": "text/x-python",
   "name": "python",
   "nbconvert_exporter": "python",
   "pygments_lexer": "ipython3",
   "version": "3.9.12"
  }
 },
 "nbformat": 4,
 "nbformat_minor": 4
}
